{
 "cells": [
  {
   "cell_type": "code",
   "execution_count": 16,
   "metadata": {},
   "outputs": [],
   "source": [
    "from IPython.display import display, Markdown, Latex"
   ]
  },
  {
   "cell_type": "code",
   "execution_count": 46,
   "metadata": {},
   "outputs": [],
   "source": [
    "from __future__ import annotations\n",
    "##\n",
    "import asyncio\n",
    "lock_tt = asyncio.Lock()\n",
    "##\n",
    "DAY_START = 5\n",
    "##\n",
    "from peewee import *\n",
    "from brish import z\n",
    "import os\n",
    "from dateutil.relativedelta import relativedelta\n",
    "from pathlib import Path\n",
    "\n",
    "# Path.home().joinpath(Path(\"cellar\"))\n",
    "db_path = Path(\n",
    "    z('print -r -- \"${{attic_private_dir:-$HOME/tmp}}/timetracker.db\"').outrs)\n",
    "os.makedirs(os.path.dirname(db_path), exist_ok=True)\n",
    "db = SqliteDatabase(db_path)\n",
    "\n",
    "\n",
    "class BaseModel(Model):\n",
    "    class Meta:\n",
    "        database = db\n",
    "\n",
    "\n",
    "class Activity(BaseModel):\n",
    "    name = CharField()\n",
    "    start = DateTimeField()\n",
    "    end = DateTimeField()\n",
    "\n",
    "    def __str__(self):\n",
    "        dur = relativedelta(self.end, self.start)\n",
    "        return f\"\"\"{self.name} {relativedelta_str(dur)}\"\"\"\n",
    "\n",
    "## indexes: add manually via Datagrip (right-click on table, modify table)(adding it via peewee is not necesseray https://github.com/coleifer/peewee/issues/2360 )\n",
    "# create index activity_end_index\n",
    "#     on activity (end desc);\n",
    "# create index activity_start_end_index\n",
    "#     on activity (start desc, end desc);\n",
    "##\n",
    "\n",
    "db.close()\n",
    "db.connect()  # @todo? db.close()\n",
    "db.create_tables([Activity])\n",
    "##\n",
    "\n",
    "import textwrap\n",
    "import dataclasses\n",
    "from dataclasses import dataclass\n",
    "from functools import total_ordering\n",
    "from typing import Dict, List\n",
    "import datetime\n",
    "from dateutil.relativedelta import relativedelta\n",
    "\n",
    "\n",
    "def relativedelta_total_seconds(rd: relativedelta):\n",
    "    # Used Google to convert the years and months, they are slightly more than 365 and 30 days respectively.\n",
    "    return rd.years * 31540000 + rd.months * 2628000 + rd.days * 86400 + rd.hours * 3600 + rd.minutes * 60 + rd.seconds\n",
    "\n",
    "\n",
    "def gen_s(num):\n",
    "    if num != 1:\n",
    "        return \"s\"\n",
    "    return \"\"\n",
    "\n",
    "\n",
    "def relativedelta_str(rd: relativedelta):\n",
    "    res = \"\"\n",
    "    rd = rd.normalized()\n",
    "    # rd.weeks seems to just convert rd.days into weeks\n",
    "    if rd.years:\n",
    "        res += f\"{rd.years} year{gen_s(rd.years)}, \"\n",
    "    if rd.months:\n",
    "        res += f\"{rd.months} month{gen_s(rd.months)}, \"\n",
    "    if rd.days:\n",
    "        res += f\"{rd.days} day{gen_s(rd.days)}, \"\n",
    "    if rd.hours:\n",
    "        res += f\"{rd.hours}:\"\n",
    "    res += f\"{rd.minutes}\"\n",
    "    return res\n",
    "\n",
    "@total_ordering\n",
    "@dataclass()\n",
    "class ActivityDuration:\n",
    "    # @legacyComment Somehow putting ActivityDuration in the plugin file itself resulted in error (the culprit was probably dataclass), so I am putting them here.\n",
    "    name: str\n",
    "    duration: relativedelta = dataclasses.field(default_factory=relativedelta)\n",
    "    sub_acts: Dict[str, ActivityDuration] = dataclasses.field(\n",
    "        default_factory=dict)\n",
    "\n",
    "    total_duration: relativedelta = dataclasses.field(\n",
    "        default_factory=relativedelta)\n",
    "    # @property\n",
    "    # def total_duration(self):\n",
    "    #     res = self.duration\n",
    "    #     for act in self.sub_acts:\n",
    "    #         res += act.total_duration\n",
    "    #     return res\n",
    "\n",
    "    def __lt__(self, other):\n",
    "        if type(other) is ActivityDuration:\n",
    "            return relativedelta_total_seconds(self.total_duration) < relativedelta_total_seconds(other.total_duration)\n",
    "        elif type(other) is relativedelta:\n",
    "            return relativedelta_total_seconds(self.total_duration) < relativedelta_total_seconds(other)\n",
    "        else:\n",
    "            return NotImplemented\n",
    "\n",
    "    def add(self, dur: relativedelta, act_chain: List[str]):\n",
    "        self.total_duration += dur\n",
    "        if len(act_chain) == 0:\n",
    "            self.duration += dur\n",
    "        else:\n",
    "            # act_chain's last item should be the parent for possible perf reasons\n",
    "            child = act_chain.pop()\n",
    "            child_act = self.sub_acts.setdefault(\n",
    "                child, ActivityDuration(name=child))\n",
    "            child_act.add(dur, act_chain)\n",
    "\n",
    "    def __str__(self, width=25, indent=\"  \"):\n",
    "        def adjust_name(name, width=width):\n",
    "            return name + \" \" * max(4, width - len(name))\n",
    "\n",
    "        res = \"\"\n",
    "        name = self.name\n",
    "        skip_me = (name == \"Total\")  # Skip root\n",
    "        my_indent = indent\n",
    "        next_width = width - len(indent)\n",
    "        if not skip_me:\n",
    "            res += f\"\"\"{adjust_name(name)} {relativedelta_str(self.total_duration)}\\n\"\"\"\n",
    "            if len(self.sub_acts) > 0 and relativedelta_total_seconds(self.duration) > 60:\n",
    "                res += f\"\"\"{my_indent}{adjust_name(\".\", width=next_width)} {relativedelta_str(self.duration)}\\n\"\"\"\n",
    "        else:\n",
    "            my_indent = \"\"\n",
    "        for act in sorted(self.sub_acts.values(), reverse=True):\n",
    "            res += textwrap.indent(act.__str__(width=(next_width), indent=indent), my_indent)\n",
    "        return res\n",
    "\n",
    "##\n",
    "def activity_list_to_str_now(delta=datetime.timedelta(hours=24)):\n",
    "    now = datetime.datetime.today()\n",
    "    low = now - delta\n",
    "    return activity_list_to_str(low,now)\n",
    "\n",
    "def activity_list_to_str(low, high):\n",
    "    acts = Activity.select().where((Activity.start.between(low, high)) | (Activity.end.between(low, high)))\n",
    "    global acts_agg\n",
    "    acts_agg = ActivityDuration(\"Total\")\n",
    "    for act in acts:\n",
    "        act_name = act.name\n",
    "        act_start = max(act.start, low)\n",
    "        act_end = min(act.end, high)\n",
    "        dur = relativedelta(act_end, act_start)\n",
    "        acts_agg.add(dur, list(reversed(act_name.split('_'))))\n",
    "    # (\"TOTAL\", total_dur),\n",
    "    # we need a monospace font to justify the columns\n",
    "    res = f\"```\\nSpanning {str(high - low)}; UNACCOUNTED {relativedelta_str(relativedelta(high, low + acts_agg.total_duration))}\\n\"\n",
    "    res += str(acts_agg)\n",
    "    return res + \"\\n```\"\n",
    "\n",
    "\n",
    "def activity_list_habit_get_now(name: str, delta=datetime.timedelta(days=30), mode=0, fill_default=True):\n",
    "    # _now means 'now' is 'high'\n",
    "    high = datetime.datetime.today()\n",
    "    low = high - delta\n",
    "    low = low.replace(hour=DAY_START, minute=0, second=0, microsecond=0)\n",
    "    # aligns dates with real life, so that date changes happen at, e.g., 5 AM\n",
    "    night_passover = datetime.timedelta(hours=DAY_START)\n",
    "\n",
    "    def which_bucket(act: Activity):\n",
    "        if act.name == name or act.name.startswith(name + '_'):\n",
    "            return (act.start - night_passover).date()\n",
    "        return None\n",
    "\n",
    "    buckets = activity_list_buckets_get(\n",
    "        low, high, which_bucket=which_bucket, mode=mode)\n",
    "    if mode == 0:\n",
    "        buckets_dur = {k: round(relativedelta_total_seconds(\n",
    "            v.total_duration) / 3600, 2) for k, v in buckets.items()}\n",
    "    elif mode == 1:\n",
    "        buckets_dur = buckets\n",
    "\n",
    "    if fill_default:\n",
    "        interval = datetime.timedelta(days=1)\n",
    "        while low <= high:\n",
    "            buckets_dur.setdefault(low.date(), 0)\n",
    "            low += interval\n",
    "\n",
    "    return buckets_dur\n",
    "\n",
    "\n",
    "def activity_list_buckets_get(low, high, which_bucket, mode=0, correct_overlap=True):\n",
    "    acts = None\n",
    "    # adding the name query here will increase performance. (Currently done in which_bucket.)\n",
    "    if correct_overlap:\n",
    "        acts = Activity.select().where((Activity.start.between(low, high)) | (Activity.end.between(low, high)))\n",
    "    else:\n",
    "        acts = Activity.select().where((Activity.start.between(low, high)))\n",
    "\n",
    "    buckets = {}\n",
    "    for act in acts:\n",
    "        if correct_overlap:\n",
    "            # [Q] Is it possible to mark a model object as \"unsave-able\"? https://github.com/coleifer/peewee/issues/2375\n",
    "            act.start = max(act.start, low)\n",
    "            act.end = min(act.end, high)\n",
    "\n",
    "        bucket_key = which_bucket(act)\n",
    "        if not bucket_key:\n",
    "            continue\n",
    "        if mode == 0:\n",
    "            bucket = buckets.setdefault(bucket_key, ActivityDuration(\"Total\"))\n",
    "            dur = relativedelta(act.end, act.start)\n",
    "            bucket.add(dur, list(reversed(act.name.split('_'))))\n",
    "        elif mode == 1:  # count mode\n",
    "            bucket = buckets.setdefault(bucket_key, 0)\n",
    "            buckets[bucket_key] += 1\n",
    "    return buckets\n"
   ]
  },
  {
   "cell_type": "code",
   "execution_count": 116,
   "metadata": {},
   "outputs": [
    {
     "name": "stdout",
     "output_type": "stream",
     "text": [
      "```\n",
      "Spanning 7 days, 0:00:00; UNACCOUNTED 1:15\n",
      "sleep                   2 days, 6:8\n",
      "sa                      2 days, 4:21\n",
      "  .                     1 day, 9:21\n",
      "  development           17:30\n",
      "    .                   7:45\n",
      "    shiny               7:5\n",
      "    quantified self     2:40\n",
      "      timetracker       2:40\n",
      "  p4v                   1:17\n",
      "  product               10\n",
      "    evaluation          10\n",
      "study                   1 day, 7:28\n",
      "  physics               15:30\n",
      "    physics 4           9:41\n",
      "      .                 7:35\n",
      "      video             1:20\n",
      "      hw                46\n",
      "    physics 2           5:49\n",
      "      .                 3:58\n",
      "      quizz             1:33\n",
      "      debug             16\n",
      "  cs                    8:0\n",
      "    ai                  8:0\n",
      "      .                 5:55\n",
      "      hw                1:37\n",
      "      halfhearted       28\n",
      "  math                  5:38\n",
      "    probability and statistics     5:38\n",
      "      video             5:38\n",
      "        .               3:26\n",
      "        eat             1:6\n",
      "        lunch           46\n",
      "        floss           19\n",
      "  economics             2:18\n",
      "    finance             2:18\n",
      "      .                 52\n",
      "      video             1:25\n",
      "wasted                  10:51\n",
      "  .                     1:6\n",
      "  news                  3:52\n",
      "    .                   43\n",
      "    hackernews          3:8\n",
      "  exploration           2:8\n",
      "    sa                  1:40\n",
      "    gathering           28\n",
      "      music             28\n",
      "  social                1:3\n",
      "    online              50\n",
      "      .                 43\n",
      "      forums            7\n",
      "    family              12\n",
      "  github                52\n",
      "  thinking              45\n",
      "    self inspection     45\n",
      "  chores                31\n",
      "    self                31\n",
      "      rest              24\n",
      "        wakingup        24\n",
      "      sa                7\n",
      "        github          7\n",
      "  nonfiction            16\n",
      "    reading             16\n",
      "  entertainment         14\n",
      "    video games         14\n",
      "chores                  10:35\n",
      "  .                     17\n",
      "  self                  9:22\n",
      "    rest                4:2\n",
      "      .                 19\n",
      "      eat               2:54\n",
      "        .               1:1\n",
      "        dinner          1:39\n",
      "          .             59\n",
      "          family        40\n",
      "        lunch           13\n",
      "      wakingup          28\n",
      "      glue              19\n",
      "    health              2:1\n",
      "      exercise          1:42\n",
      "      teeth             19\n",
      "        brush           19\n",
      "        floss           0\n",
      "    hygiene             1:59\n",
      "      bath              1:59\n",
      "    study               1:0\n",
      "    sa                  18\n",
      "      github            18\n",
      "  commute               38\n",
      "  others                16\n",
      "social                  6:23\n",
      "  family                5:36\n",
      "    .                   3:2\n",
      "    others              2:34\n",
      "      party             2:34\n",
      "  online                47\n",
      "exploration             40\n",
      "  sa                    35\n",
      "  gathering             5\n",
      "    music               5\n",
      "nonfiction              9\n",
      "  reading               9\n",
      "meditation              6\n",
      "  thinking              6\n",
      "\n",
      "```\n"
     ]
    },
    {
     "data": {
      "text/plain": "89"
     },
     "execution_count": 116,
     "metadata": {},
     "output_type": "execute_result"
    }
   ],
   "source": [
    "def get_acts(root: ActivityDuration):\n",
    "    # mutates its input! is not idempotent!\n",
    "    acts = [root]\n",
    "    if not hasattr(root, 'parent'):\n",
    "        root.parent = None\n",
    "    if not hasattr(root, 'shortname'):\n",
    "        root.shortname = root.name\n",
    "\n",
    "    act: ActivityDuration\n",
    "    for act in root.sub_acts.values():\n",
    "        act.parent = root\n",
    "        act.shortname = act.name\n",
    "        if act.parent.name != 'Total':\n",
    "            act.name = f\"{act.parent.name}_{act.name}\"\n",
    "        # print(f\"{act.shortname} -> {act.name} via parent {act.parent.name}\")\n",
    "        acts += get_acts(act)\n",
    "    return acts\n",
    "\n",
    "db.close()\n",
    "db.connect()\n",
    "a = activity_list_to_str_now(delta=datetime.timedelta(days=7)) # reset acts_agg\n",
    "print(a)\n",
    "all_acts = get_acts(acts_agg)\n",
    "len(all_acts)\n"
   ]
  },
  {
   "cell_type": "code",
   "execution_count": 138,
   "metadata": {},
   "outputs": [
    {
     "data": {
      "application/vnd.plotly.v1+json": {
       "config": {
        "plotlyServerURL": "https://plot.ly"
       },
       "data": [
        {
         "branchvalues": "total",
         "hoverinfo": "label+text+value+percent parent+percent entry+percent root",
         "ids": [
          "Total",
          "sa",
          "sa_development",
          "sa_development_quantified self",
          "sa_development_quantified self_timetracker",
          "sa_development_shiny",
          "sa_p4v",
          "sa_product",
          "sa_product_evaluation",
          "wasted",
          "wasted_nonfiction",
          "wasted_nonfiction_reading",
          "wasted_social",
          "wasted_social_online",
          "wasted_social_online_forums",
          "wasted_social_family",
          "wasted_entertainment",
          "wasted_entertainment_video games",
          "wasted_news",
          "wasted_news_hackernews",
          "wasted_thinking",
          "wasted_thinking_self inspection",
          "wasted_chores",
          "wasted_chores_self",
          "wasted_chores_self_sa",
          "wasted_chores_self_sa_github",
          "wasted_chores_self_rest",
          "wasted_chores_self_rest_wakingup",
          "wasted_exploration",
          "wasted_exploration_sa",
          "wasted_exploration_gathering",
          "wasted_exploration_gathering_music",
          "wasted_github",
          "chores",
          "chores_self",
          "chores_self_rest",
          "chores_self_rest_glue",
          "chores_self_rest_eat",
          "chores_self_rest_eat_dinner",
          "chores_self_rest_eat_dinner_family",
          "chores_self_rest_eat_lunch",
          "chores_self_rest_wakingup",
          "chores_self_study",
          "chores_self_health",
          "chores_self_health_exercise",
          "chores_self_health_teeth",
          "chores_self_health_teeth_brush",
          "chores_self_health_teeth_floss",
          "chores_self_hygiene",
          "chores_self_hygiene_bath",
          "chores_self_sa",
          "chores_self_sa_github",
          "chores_others",
          "chores_commute",
          "social",
          "social_family",
          "social_family_others",
          "social_family_others_party",
          "social_online",
          "study",
          "study_math",
          "study_math_probability and statistics",
          "study_math_probability and statistics_video",
          "study_math_probability and statistics_video_lunch",
          "study_math_probability and statistics_video_eat",
          "study_math_probability and statistics_video_floss",
          "study_physics",
          "study_physics_physics 2",
          "study_physics_physics 2_quizz",
          "study_physics_physics 2_debug",
          "study_physics_physics 4",
          "study_physics_physics 4_hw",
          "study_physics_physics 4_video",
          "study_economics",
          "study_economics_finance",
          "study_economics_finance_video",
          "study_cs",
          "study_cs_ai",
          "study_cs_ai_hw",
          "study_cs_ai_halfhearted",
          "sleep",
          "nonfiction",
          "nonfiction_reading",
          "exploration",
          "exploration_sa",
          "exploration_gathering",
          "exploration_gathering_music",
          "meditation",
          "meditation_thinking"
         ],
         "labels": [
          "Total",
          "sa",
          "development",
          "quantified self",
          "timetracker",
          "shiny",
          "p4v",
          "product",
          "evaluation",
          "wasted",
          "nonfiction",
          "reading",
          "social",
          "online",
          "forums",
          "family",
          "entertainment",
          "video games",
          "news",
          "hackernews",
          "thinking",
          "self inspection",
          "chores",
          "self",
          "sa",
          "github",
          "rest",
          "wakingup",
          "exploration",
          "sa",
          "gathering",
          "music",
          "github",
          "chores",
          "self",
          "rest",
          "glue",
          "eat",
          "dinner",
          "family",
          "lunch",
          "wakingup",
          "study",
          "health",
          "exercise",
          "teeth",
          "brush",
          "floss",
          "hygiene",
          "bath",
          "sa",
          "github",
          "others",
          "commute",
          "social",
          "family",
          "others",
          "party",
          "online",
          "study",
          "math",
          "probability and statistics",
          "video",
          "lunch",
          "eat",
          "floss",
          "physics",
          "physics 2",
          "quizz",
          "debug",
          "physics 4",
          "hw",
          "video",
          "economics",
          "finance",
          "video",
          "cs",
          "ai",
          "hw",
          "halfhearted",
          "sleep",
          "nonfiction",
          "reading",
          "exploration",
          "sa",
          "gathering",
          "music",
          "meditation",
          "thinking"
         ],
         "parents": [
          "",
          "Total",
          "sa",
          "sa_development",
          "sa_development_quantified self",
          "sa_development",
          "sa",
          "sa",
          "sa_product",
          "Total",
          "wasted",
          "wasted_nonfiction",
          "wasted",
          "wasted_social",
          "wasted_social_online",
          "wasted_social",
          "wasted",
          "wasted_entertainment",
          "wasted",
          "wasted_news",
          "wasted",
          "wasted_thinking",
          "wasted",
          "wasted_chores",
          "wasted_chores_self",
          "wasted_chores_self_sa",
          "wasted_chores_self",
          "wasted_chores_self_rest",
          "wasted",
          "wasted_exploration",
          "wasted_exploration",
          "wasted_exploration_gathering",
          "wasted",
          "Total",
          "chores",
          "chores_self",
          "chores_self_rest",
          "chores_self_rest",
          "chores_self_rest_eat",
          "chores_self_rest_eat_dinner",
          "chores_self_rest_eat",
          "chores_self_rest",
          "chores_self",
          "chores_self",
          "chores_self_health",
          "chores_self_health",
          "chores_self_health_teeth",
          "chores_self_health_teeth",
          "chores_self",
          "chores_self_hygiene",
          "chores_self",
          "chores_self_sa",
          "chores",
          "chores",
          "Total",
          "social",
          "social_family",
          "social_family_others",
          "social",
          "Total",
          "study",
          "study_math",
          "study_math_probability and statistics",
          "study_math_probability and statistics_video",
          "study_math_probability and statistics_video",
          "study_math_probability and statistics_video",
          "study",
          "study_physics",
          "study_physics_physics 2",
          "study_physics_physics 2",
          "study_physics",
          "study_physics_physics 4",
          "study_physics_physics 4",
          "study",
          "study_economics",
          "study_economics_finance",
          "study",
          "study_cs",
          "study_cs_ai",
          "study_cs_ai",
          "Total",
          "Total",
          "nonfiction",
          "Total",
          "exploration",
          "exploration",
          "exploration_gathering",
          "Total",
          "meditation"
         ],
         "text": [
          "Total",
          "sa",
          "sa_development",
          "sa_development_quantified self",
          "sa_development_quantified self_timetracker",
          "sa_development_shiny",
          "sa_p4v",
          "sa_product",
          "sa_product_evaluation",
          "wasted",
          "wasted_nonfiction",
          "wasted_nonfiction_reading",
          "wasted_social",
          "wasted_social_online",
          "wasted_social_online_forums",
          "wasted_social_family",
          "wasted_entertainment",
          "wasted_entertainment_video games",
          "wasted_news",
          "wasted_news_hackernews",
          "wasted_thinking",
          "wasted_thinking_self inspection",
          "wasted_chores",
          "wasted_chores_self",
          "wasted_chores_self_sa",
          "wasted_chores_self_sa_github",
          "wasted_chores_self_rest",
          "wasted_chores_self_rest_wakingup",
          "wasted_exploration",
          "wasted_exploration_sa",
          "wasted_exploration_gathering",
          "wasted_exploration_gathering_music",
          "wasted_github",
          "chores",
          "chores_self",
          "chores_self_rest",
          "chores_self_rest_glue",
          "chores_self_rest_eat",
          "chores_self_rest_eat_dinner",
          "chores_self_rest_eat_dinner_family",
          "chores_self_rest_eat_lunch",
          "chores_self_rest_wakingup",
          "chores_self_study",
          "chores_self_health",
          "chores_self_health_exercise",
          "chores_self_health_teeth",
          "chores_self_health_teeth_brush",
          "chores_self_health_teeth_floss",
          "chores_self_hygiene",
          "chores_self_hygiene_bath",
          "chores_self_sa",
          "chores_self_sa_github",
          "chores_others",
          "chores_commute",
          "social",
          "social_family",
          "social_family_others",
          "social_family_others_party",
          "social_online",
          "study",
          "study_math",
          "study_math_probability and statistics",
          "study_math_probability and statistics_video",
          "study_math_probability and statistics_video_lunch",
          "study_math_probability and statistics_video_eat",
          "study_math_probability and statistics_video_floss",
          "study_physics",
          "study_physics_physics 2",
          "study_physics_physics 2_quizz",
          "study_physics_physics 2_debug",
          "study_physics_physics 4",
          "study_physics_physics 4_hw",
          "study_physics_physics 4_video",
          "study_economics",
          "study_economics_finance",
          "study_economics_finance_video",
          "study_cs",
          "study_cs_ai",
          "study_cs_ai_hw",
          "study_cs_ai_halfhearted",
          "sleep",
          "nonfiction",
          "nonfiction_reading",
          "exploration",
          "exploration_sa",
          "exploration_gathering",
          "exploration_gathering_music",
          "meditation",
          "meditation_thinking"
         ],
         "textinfo": "label+value+percent parent+percent entry+percent root",
         "type": "treemap",
         "values": [
          166.74527777777777,
          52.354166666666664,
          17.513055555555557,
          2.6691666666666665,
          2.6691666666666665,
          7.088888888888889,
          1.2941666666666667,
          0.1825,
          0.1825,
          10.850277777777778,
          0.2727777777777778,
          0.2727777777777778,
          1.0558333333333334,
          0.8463888888888889,
          0.12,
          0.20944444444444443,
          0.23833333333333334,
          0.23833333333333334,
          3.8761111111111113,
          3.145277777777778,
          0.7627777777777778,
          0.7627777777777778,
          0.5266666666666666,
          0.5266666666666666,
          0.12638888888888888,
          0.12638888888888888,
          0.4002777777777778,
          0.4002777777777778,
          2.1475,
          1.6769444444444443,
          0.47055555555555556,
          0.47055555555555556,
          0.8672222222222222,
          10.594722222222222,
          9.375555555555556,
          4.039722222222222,
          0.33194444444444443,
          2.9144444444444444,
          1.6616666666666666,
          0.6716666666666666,
          0.22166666666666668,
          0.47,
          1.0019444444444445,
          2.0322222222222224,
          1.7141666666666666,
          0.31805555555555554,
          0.31805555555555554,
          0,
          1.9947222222222223,
          1.9947222222222223,
          0.3061111111111111,
          0.3061111111111111,
          0.2822222222222222,
          0.6380555555555556,
          6.394166666666667,
          5.606944444444444,
          2.5727777777777776,
          2.5727777777777776,
          0.7872222222222223,
          31.470277777777778,
          5.637222222222222,
          5.637222222222222,
          5.637222222222222,
          0.7686111111111111,
          1.1011111111111112,
          0.32305555555555554,
          15.510277777777778,
          5.8175,
          1.5663888888888888,
          0.2811111111111111,
          9.692777777777778,
          0.7711111111111111,
          1.3380555555555556,
          2.3075,
          2.3075,
          1.4305555555555556,
          8.015,
          8.015,
          1.6252777777777778,
          0.4683333333333333,
          54.14527777777778,
          0.15361111111111111,
          0.15361111111111111,
          0.6805555555555556,
          0.5911111111111111,
          0.08916666666666667,
          0.08916666666666667,
          0.10111111111111111,
          0.10111111111111111
         ]
        }
       ],
       "layout": {
        "margin": {
         "b": 30,
         "l": 0,
         "r": 30,
         "t": 30
        },
        "template": {
         "data": {
          "bar": [
           {
            "error_x": {
             "color": "#2a3f5f"
            },
            "error_y": {
             "color": "#2a3f5f"
            },
            "marker": {
             "line": {
              "color": "#E5ECF6",
              "width": 0.5
             }
            },
            "type": "bar"
           }
          ],
          "barpolar": [
           {
            "marker": {
             "line": {
              "color": "#E5ECF6",
              "width": 0.5
             }
            },
            "type": "barpolar"
           }
          ],
          "carpet": [
           {
            "aaxis": {
             "endlinecolor": "#2a3f5f",
             "gridcolor": "white",
             "linecolor": "white",
             "minorgridcolor": "white",
             "startlinecolor": "#2a3f5f"
            },
            "baxis": {
             "endlinecolor": "#2a3f5f",
             "gridcolor": "white",
             "linecolor": "white",
             "minorgridcolor": "white",
             "startlinecolor": "#2a3f5f"
            },
            "type": "carpet"
           }
          ],
          "choropleth": [
           {
            "colorbar": {
             "outlinewidth": 0,
             "ticks": ""
            },
            "type": "choropleth"
           }
          ],
          "contour": [
           {
            "colorbar": {
             "outlinewidth": 0,
             "ticks": ""
            },
            "colorscale": [
             [
              0,
              "#0d0887"
             ],
             [
              0.1111111111111111,
              "#46039f"
             ],
             [
              0.2222222222222222,
              "#7201a8"
             ],
             [
              0.3333333333333333,
              "#9c179e"
             ],
             [
              0.4444444444444444,
              "#bd3786"
             ],
             [
              0.5555555555555556,
              "#d8576b"
             ],
             [
              0.6666666666666666,
              "#ed7953"
             ],
             [
              0.7777777777777778,
              "#fb9f3a"
             ],
             [
              0.8888888888888888,
              "#fdca26"
             ],
             [
              1,
              "#f0f921"
             ]
            ],
            "type": "contour"
           }
          ],
          "contourcarpet": [
           {
            "colorbar": {
             "outlinewidth": 0,
             "ticks": ""
            },
            "type": "contourcarpet"
           }
          ],
          "heatmap": [
           {
            "colorbar": {
             "outlinewidth": 0,
             "ticks": ""
            },
            "colorscale": [
             [
              0,
              "#0d0887"
             ],
             [
              0.1111111111111111,
              "#46039f"
             ],
             [
              0.2222222222222222,
              "#7201a8"
             ],
             [
              0.3333333333333333,
              "#9c179e"
             ],
             [
              0.4444444444444444,
              "#bd3786"
             ],
             [
              0.5555555555555556,
              "#d8576b"
             ],
             [
              0.6666666666666666,
              "#ed7953"
             ],
             [
              0.7777777777777778,
              "#fb9f3a"
             ],
             [
              0.8888888888888888,
              "#fdca26"
             ],
             [
              1,
              "#f0f921"
             ]
            ],
            "type": "heatmap"
           }
          ],
          "heatmapgl": [
           {
            "colorbar": {
             "outlinewidth": 0,
             "ticks": ""
            },
            "colorscale": [
             [
              0,
              "#0d0887"
             ],
             [
              0.1111111111111111,
              "#46039f"
             ],
             [
              0.2222222222222222,
              "#7201a8"
             ],
             [
              0.3333333333333333,
              "#9c179e"
             ],
             [
              0.4444444444444444,
              "#bd3786"
             ],
             [
              0.5555555555555556,
              "#d8576b"
             ],
             [
              0.6666666666666666,
              "#ed7953"
             ],
             [
              0.7777777777777778,
              "#fb9f3a"
             ],
             [
              0.8888888888888888,
              "#fdca26"
             ],
             [
              1,
              "#f0f921"
             ]
            ],
            "type": "heatmapgl"
           }
          ],
          "histogram": [
           {
            "marker": {
             "colorbar": {
              "outlinewidth": 0,
              "ticks": ""
             }
            },
            "type": "histogram"
           }
          ],
          "histogram2d": [
           {
            "colorbar": {
             "outlinewidth": 0,
             "ticks": ""
            },
            "colorscale": [
             [
              0,
              "#0d0887"
             ],
             [
              0.1111111111111111,
              "#46039f"
             ],
             [
              0.2222222222222222,
              "#7201a8"
             ],
             [
              0.3333333333333333,
              "#9c179e"
             ],
             [
              0.4444444444444444,
              "#bd3786"
             ],
             [
              0.5555555555555556,
              "#d8576b"
             ],
             [
              0.6666666666666666,
              "#ed7953"
             ],
             [
              0.7777777777777778,
              "#fb9f3a"
             ],
             [
              0.8888888888888888,
              "#fdca26"
             ],
             [
              1,
              "#f0f921"
             ]
            ],
            "type": "histogram2d"
           }
          ],
          "histogram2dcontour": [
           {
            "colorbar": {
             "outlinewidth": 0,
             "ticks": ""
            },
            "colorscale": [
             [
              0,
              "#0d0887"
             ],
             [
              0.1111111111111111,
              "#46039f"
             ],
             [
              0.2222222222222222,
              "#7201a8"
             ],
             [
              0.3333333333333333,
              "#9c179e"
             ],
             [
              0.4444444444444444,
              "#bd3786"
             ],
             [
              0.5555555555555556,
              "#d8576b"
             ],
             [
              0.6666666666666666,
              "#ed7953"
             ],
             [
              0.7777777777777778,
              "#fb9f3a"
             ],
             [
              0.8888888888888888,
              "#fdca26"
             ],
             [
              1,
              "#f0f921"
             ]
            ],
            "type": "histogram2dcontour"
           }
          ],
          "mesh3d": [
           {
            "colorbar": {
             "outlinewidth": 0,
             "ticks": ""
            },
            "type": "mesh3d"
           }
          ],
          "parcoords": [
           {
            "line": {
             "colorbar": {
              "outlinewidth": 0,
              "ticks": ""
             }
            },
            "type": "parcoords"
           }
          ],
          "pie": [
           {
            "automargin": true,
            "type": "pie"
           }
          ],
          "scatter": [
           {
            "marker": {
             "colorbar": {
              "outlinewidth": 0,
              "ticks": ""
             }
            },
            "type": "scatter"
           }
          ],
          "scatter3d": [
           {
            "line": {
             "colorbar": {
              "outlinewidth": 0,
              "ticks": ""
             }
            },
            "marker": {
             "colorbar": {
              "outlinewidth": 0,
              "ticks": ""
             }
            },
            "type": "scatter3d"
           }
          ],
          "scattercarpet": [
           {
            "marker": {
             "colorbar": {
              "outlinewidth": 0,
              "ticks": ""
             }
            },
            "type": "scattercarpet"
           }
          ],
          "scattergeo": [
           {
            "marker": {
             "colorbar": {
              "outlinewidth": 0,
              "ticks": ""
             }
            },
            "type": "scattergeo"
           }
          ],
          "scattergl": [
           {
            "marker": {
             "colorbar": {
              "outlinewidth": 0,
              "ticks": ""
             }
            },
            "type": "scattergl"
           }
          ],
          "scattermapbox": [
           {
            "marker": {
             "colorbar": {
              "outlinewidth": 0,
              "ticks": ""
             }
            },
            "type": "scattermapbox"
           }
          ],
          "scatterpolar": [
           {
            "marker": {
             "colorbar": {
              "outlinewidth": 0,
              "ticks": ""
             }
            },
            "type": "scatterpolar"
           }
          ],
          "scatterpolargl": [
           {
            "marker": {
             "colorbar": {
              "outlinewidth": 0,
              "ticks": ""
             }
            },
            "type": "scatterpolargl"
           }
          ],
          "scatterternary": [
           {
            "marker": {
             "colorbar": {
              "outlinewidth": 0,
              "ticks": ""
             }
            },
            "type": "scatterternary"
           }
          ],
          "surface": [
           {
            "colorbar": {
             "outlinewidth": 0,
             "ticks": ""
            },
            "colorscale": [
             [
              0,
              "#0d0887"
             ],
             [
              0.1111111111111111,
              "#46039f"
             ],
             [
              0.2222222222222222,
              "#7201a8"
             ],
             [
              0.3333333333333333,
              "#9c179e"
             ],
             [
              0.4444444444444444,
              "#bd3786"
             ],
             [
              0.5555555555555556,
              "#d8576b"
             ],
             [
              0.6666666666666666,
              "#ed7953"
             ],
             [
              0.7777777777777778,
              "#fb9f3a"
             ],
             [
              0.8888888888888888,
              "#fdca26"
             ],
             [
              1,
              "#f0f921"
             ]
            ],
            "type": "surface"
           }
          ],
          "table": [
           {
            "cells": {
             "fill": {
              "color": "#EBF0F8"
             },
             "line": {
              "color": "white"
             }
            },
            "header": {
             "fill": {
              "color": "#C8D4E3"
             },
             "line": {
              "color": "white"
             }
            },
            "type": "table"
           }
          ]
         },
         "layout": {
          "annotationdefaults": {
           "arrowcolor": "#2a3f5f",
           "arrowhead": 0,
           "arrowwidth": 1
          },
          "autotypenumbers": "strict",
          "coloraxis": {
           "colorbar": {
            "outlinewidth": 0,
            "ticks": ""
           }
          },
          "colorscale": {
           "diverging": [
            [
             0,
             "#8e0152"
            ],
            [
             0.1,
             "#c51b7d"
            ],
            [
             0.2,
             "#de77ae"
            ],
            [
             0.3,
             "#f1b6da"
            ],
            [
             0.4,
             "#fde0ef"
            ],
            [
             0.5,
             "#f7f7f7"
            ],
            [
             0.6,
             "#e6f5d0"
            ],
            [
             0.7,
             "#b8e186"
            ],
            [
             0.8,
             "#7fbc41"
            ],
            [
             0.9,
             "#4d9221"
            ],
            [
             1,
             "#276419"
            ]
           ],
           "sequential": [
            [
             0,
             "#0d0887"
            ],
            [
             0.1111111111111111,
             "#46039f"
            ],
            [
             0.2222222222222222,
             "#7201a8"
            ],
            [
             0.3333333333333333,
             "#9c179e"
            ],
            [
             0.4444444444444444,
             "#bd3786"
            ],
            [
             0.5555555555555556,
             "#d8576b"
            ],
            [
             0.6666666666666666,
             "#ed7953"
            ],
            [
             0.7777777777777778,
             "#fb9f3a"
            ],
            [
             0.8888888888888888,
             "#fdca26"
            ],
            [
             1,
             "#f0f921"
            ]
           ],
           "sequentialminus": [
            [
             0,
             "#0d0887"
            ],
            [
             0.1111111111111111,
             "#46039f"
            ],
            [
             0.2222222222222222,
             "#7201a8"
            ],
            [
             0.3333333333333333,
             "#9c179e"
            ],
            [
             0.4444444444444444,
             "#bd3786"
            ],
            [
             0.5555555555555556,
             "#d8576b"
            ],
            [
             0.6666666666666666,
             "#ed7953"
            ],
            [
             0.7777777777777778,
             "#fb9f3a"
            ],
            [
             0.8888888888888888,
             "#fdca26"
            ],
            [
             1,
             "#f0f921"
            ]
           ]
          },
          "colorway": [
           "#636efa",
           "#EF553B",
           "#00cc96",
           "#ab63fa",
           "#FFA15A",
           "#19d3f3",
           "#FF6692",
           "#B6E880",
           "#FF97FF",
           "#FECB52"
          ],
          "font": {
           "color": "#2a3f5f"
          },
          "geo": {
           "bgcolor": "white",
           "lakecolor": "white",
           "landcolor": "#E5ECF6",
           "showlakes": true,
           "showland": true,
           "subunitcolor": "white"
          },
          "hoverlabel": {
           "align": "left"
          },
          "hovermode": "closest",
          "mapbox": {
           "style": "light"
          },
          "paper_bgcolor": "white",
          "plot_bgcolor": "#E5ECF6",
          "polar": {
           "angularaxis": {
            "gridcolor": "white",
            "linecolor": "white",
            "ticks": ""
           },
           "bgcolor": "#E5ECF6",
           "radialaxis": {
            "gridcolor": "white",
            "linecolor": "white",
            "ticks": ""
           }
          },
          "scene": {
           "xaxis": {
            "backgroundcolor": "#E5ECF6",
            "gridcolor": "white",
            "gridwidth": 2,
            "linecolor": "white",
            "showbackground": true,
            "ticks": "",
            "zerolinecolor": "white"
           },
           "yaxis": {
            "backgroundcolor": "#E5ECF6",
            "gridcolor": "white",
            "gridwidth": 2,
            "linecolor": "white",
            "showbackground": true,
            "ticks": "",
            "zerolinecolor": "white"
           },
           "zaxis": {
            "backgroundcolor": "#E5ECF6",
            "gridcolor": "white",
            "gridwidth": 2,
            "linecolor": "white",
            "showbackground": true,
            "ticks": "",
            "zerolinecolor": "white"
           }
          },
          "shapedefaults": {
           "line": {
            "color": "#2a3f5f"
           }
          },
          "ternary": {
           "aaxis": {
            "gridcolor": "white",
            "linecolor": "white",
            "ticks": ""
           },
           "baxis": {
            "gridcolor": "white",
            "linecolor": "white",
            "ticks": ""
           },
           "bgcolor": "#E5ECF6",
           "caxis": {
            "gridcolor": "white",
            "linecolor": "white",
            "ticks": ""
           }
          },
          "title": {
           "x": 0.05
          },
          "xaxis": {
           "automargin": true,
           "gridcolor": "white",
           "linecolor": "white",
           "ticks": "",
           "title": {
            "standoff": 15
           },
           "zerolinecolor": "white",
           "zerolinewidth": 2
          },
          "yaxis": {
           "automargin": true,
           "gridcolor": "white",
           "linecolor": "white",
           "ticks": "",
           "title": {
            "standoff": 15
           },
           "zerolinecolor": "white",
           "zerolinewidth": 2
          }
         }
        }
       }
      }
     },
     "metadata": {},
     "output_type": "display_data"
    }
   ],
   "source": [
    "# print(acts_agg)\n",
    "import plotly.graph_objects as go\n",
    "\n",
    "ids = None\n",
    "labels = [act.name for act in all_acts]\n",
    "texts = [act.shortname for act in all_acts]\n",
    "## Make displayed labels short (recommended):\n",
    "ids = labels\n",
    "labels = texts\n",
    "texts = ids\n",
    "##\n",
    "parents = [(act.parent and act.parent.name) or \"\" for act in all_acts]\n",
    "# values = [relativedelta_total_seconds(act.duration) for act in all_acts]\n",
    "values = [relativedelta_total_seconds(act.total_duration)/(3600) for act in all_acts]\n",
    "\n",
    "# lim=19\n",
    "# labels = labels[:lim]\n",
    "# parents = parents[:lim]\n",
    "# values = values[:lim]\n",
    "\n",
    "# print(labels)\n",
    "# print(texts)\n",
    "# print(parents)\n",
    "# print(values)\n",
    "\n",
    "# https://plotly.com/python/treemaps/\n",
    "# https://plotly.com/python/reference/treemap/\n",
    "fig = go.Figure(go.Treemap(\n",
    "    branchvalues = \"total\",\n",
    "    ids = ids,\n",
    "    labels = labels,\n",
    "    parents = parents,\n",
    "    values = values,\n",
    "    text = texts,\n",
    "    # textinfo = \"text+value+percent parent+percent entry+percent root\",\n",
    "    textinfo = \"label+value+percent parent+percent entry+percent root\",\n",
    "    hoverinfo = \"label+text+value+percent parent+percent entry+percent root\",\n",
    "    # hoverinfo = \"label+value+percent parent+percent entry+percent root\",\n",
    "))\n",
    "# fig.update_layout(margin = dict(t=0, l=0, r=0, b=0))\n",
    "fig.update_layout(margin = dict(t=30, l=0, r=30, b=30))\n",
    "# fig.update_layout(uniformtext=dict(minsize=6, mode='hide'))\n",
    "fig.show()\n",
    "\n",
    "# fig = go.Figure(go.Treemap(\n",
    "#     # branchvalues = \"total\",\n",
    "#     labels = labels,\n",
    "#     parents = parents,\n",
    "#     values = values\n",
    "# ))\n",
    "\n",
    "# fig.show()"
   ]
  }
 ],
 "metadata": {
  "kernelspec": {
   "display_name": "Python 3.7.7 64-bit ('base': conda)",
   "metadata": {
    "interpreter": {
     "hash": "c571f6000561284ccdb41bc339b17a3e474c7a9b9bd7e527387b5d8163680645"
    }
   },
   "name": "python3"
  },
  "language_info": {
   "codemirror_mode": {
    "name": "ipython",
    "version": 3
   },
   "file_extension": ".py",
   "mimetype": "text/x-python",
   "name": "python",
   "nbconvert_exporter": "python",
   "pygments_lexer": "ipython3",
   "version": "3.7.7"
  },
  "orig_nbformat": 2
 },
 "nbformat": 4,
 "nbformat_minor": 2
}